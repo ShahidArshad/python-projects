{
 "cells": [
  {
   "cell_type": "code",
   "execution_count": 1,
   "id": "fd61f3c6",
   "metadata": {},
   "outputs": [
    {
     "name": "stdout",
     "output_type": "stream",
     "text": [
      "enter english marks45\n",
      "enter islamiat marks55\n",
      "enter maths marks90\n",
      "B\n"
     ]
    }
   ],
   "source": [
    "eng=int(input(\"enter english marks\"));\n",
    "isl=int(input(\"enter islamiat marks\"));\n",
    "maths=int(input(\"enter maths marks\"));\n",
    "total=300;\n",
    "percent = (eng+ isl + maths)/total*100\n",
    "if percent <100 and percent >= 80:\n",
    "    print(\"A+\") \n",
    "elif percent < 80 and percent >=70:\n",
    "    print(\"A\")\n",
    "elif percent < 70 and percent >=60:\n",
    "    print(\"B\")\n",
    "elif percent < 60 and percent >=50:\n",
    "    print(\"C\")\n",
    "elif percent < 50 and percent >=40:\n",
    "    print(\"D\")\n",
    "elif percent < 40 and percent >=33:\n",
    "    print(\"E\")\n",
    "elif percent < 0 and percent > 100:\n",
    "    print(\"enter a valid value\")\n",
    "else:\n",
    "    print(\"fail\")"
   ]
  },
  {
   "cell_type": "code",
   "execution_count": null,
   "id": "cdbf1815",
   "metadata": {},
   "outputs": [],
   "source": []
  }
 ],
 "metadata": {
  "kernelspec": {
   "display_name": "Python 3",
   "language": "python",
   "name": "python3"
  },
  "language_info": {
   "codemirror_mode": {
    "name": "ipython",
    "version": 3
   },
   "file_extension": ".py",
   "mimetype": "text/x-python",
   "name": "python",
   "nbconvert_exporter": "python",
   "pygments_lexer": "ipython3",
   "version": "3.8.8"
  }
 },
 "nbformat": 4,
 "nbformat_minor": 5
}
