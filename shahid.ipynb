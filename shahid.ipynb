{
 "cells": [
  {
   "cell_type": "code",
   "execution_count": 5,
   "id": "a842c2b2",
   "metadata": {},
   "outputs": [
    {
     "ename": "SyntaxError",
     "evalue": "invalid syntax (<ipython-input-5-dc9cf039d24f>, line 6)",
     "output_type": "error",
     "traceback": [
      "\u001b[1;36m  File \u001b[1;32m\"<ipython-input-5-dc9cf039d24f>\"\u001b[1;36m, line \u001b[1;32m6\u001b[0m\n\u001b[1;33m    if percent < 100 and percent=>80:\u001b[0m\n\u001b[1;37m                                ^\u001b[0m\n\u001b[1;31mSyntaxError\u001b[0m\u001b[1;31m:\u001b[0m invalid syntax\n"
     ]
    }
   ],
   "source": [
    "eng= 70\n",
    "isl= 65;\n",
    "maths=95;\n",
    "total=300;\n",
    "percent= (eng+isl+maths)/total*100\n",
    "if percent < 100 and percent=>80:\n",
    "    print(\"A+\");\n",
    "elif percent < 80 and =>70:\n",
    "    print(\"B\");\n",
    "elif percent < 70and =>60:\n",
    "    print(\"C\");  \n",
    "elif percent < 60 and =>50:\n",
    "    print(\"D\");\n",
    "elif percent < 50 and =>40:\n",
    "    print(\"E\");\n",
    "elif percent < 40 and =>33:\n",
    "    print(\"Fail\")\n",
    "elif <0 and > 100:\n",
    "    print(put a valid value )\n",
    "else:\n",
    "    print(\"fail\");"
   ]
  },
  {
   "cell_type": "code",
   "execution_count": 7,
   "id": "03c3481e",
   "metadata": {},
   "outputs": [
    {
     "ename": "SyntaxError",
     "evalue": "invalid syntax (<ipython-input-7-dc9cf039d24f>, line 6)",
     "output_type": "error",
     "traceback": [
      "\u001b[1;36m  File \u001b[1;32m\"<ipython-input-7-dc9cf039d24f>\"\u001b[1;36m, line \u001b[1;32m6\u001b[0m\n\u001b[1;33m    if percent < 100 and percent=>80:\u001b[0m\n\u001b[1;37m                                ^\u001b[0m\n\u001b[1;31mSyntaxError\u001b[0m\u001b[1;31m:\u001b[0m invalid syntax\n"
     ]
    }
   ],
   "source": [
    "eng= 70\n",
    "isl= 65;\n",
    "maths=95;\n",
    "total=300;\n",
    "percent= (eng+isl+maths)/total*100\n",
    "if percent < 100 and percent=>80:\n",
    "    print(\"A+\");\n",
    "elif percent < 80 and =>70:\n",
    "    print(\"B\");\n",
    "elif percent < 70and =>60:\n",
    "    print(\"C\");  \n",
    "elif percent < 60 and =>50:\n",
    "    print(\"D\");\n",
    "elif percent < 50 and =>40:\n",
    "    print(\"E\");\n",
    "elif percent < 40 and =>33:\n",
    "    print(\"Fail\")\n",
    "elif <0 and > 100:\n",
    "    print(put a valid value )\n",
    "else:\n",
    "    print(\"fail\");"
   ]
  },
  {
   "cell_type": "code",
   "execution_count": 10,
   "id": "d587d77a",
   "metadata": {},
   "outputs": [
    {
     "ename": "SyntaxError",
     "evalue": "invalid syntax (<ipython-input-10-7bee1bc9025c>, line 1)",
     "output_type": "error",
     "traceback": [
      "\u001b[1;36m  File \u001b[1;32m\"<ipython-input-10-7bee1bc9025c>\"\u001b[1;36m, line \u001b[1;32m1\u001b[0m\n\u001b[1;33m    if species =\"cat\";\u001b[0m\n\u001b[1;37m               ^\u001b[0m\n\u001b[1;31mSyntaxError\u001b[0m\u001b[1;31m:\u001b[0m invalid syntax\n"
     ]
    }
   ],
   "source": [
    "if species =\"cat\";\n",
    "print(\"Yep, it's cat.\");"
   ]
  },
  {
   "cell_type": "code",
   "execution_count": null,
   "id": "54381866",
   "metadata": {},
   "outputs": [],
   "source": []
  }
 ],
 "metadata": {
  "kernelspec": {
   "display_name": "Python 3",
   "language": "python",
   "name": "python3"
  },
  "language_info": {
   "codemirror_mode": {
    "name": "ipython",
    "version": 3
   },
   "file_extension": ".py",
   "mimetype": "text/x-python",
   "name": "python",
   "nbconvert_exporter": "python",
   "pygments_lexer": "ipython3",
   "version": "3.8.8"
  }
 },
 "nbformat": 4,
 "nbformat_minor": 5
}
